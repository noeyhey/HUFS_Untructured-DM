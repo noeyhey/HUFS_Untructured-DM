{
  "nbformat": 4,
  "nbformat_minor": 0,
  "metadata": {
    "colab": {
      "provenance": [],
      "authorship_tag": "ABX9TyOnt9R2GzYmCMhONLSFUCpM",
      "include_colab_link": true
    },
    "kernelspec": {
      "name": "python3",
      "display_name": "Python 3"
    },
    "language_info": {
      "name": "python"
    }
  },
  "cells": [
    {
      "cell_type": "markdown",
      "metadata": {
        "id": "view-in-github",
        "colab_type": "text"
      },
      "source": [
        "<a href=\"https://colab.research.google.com/github/noeyhey/HUFS_Untructured-DM/blob/main/UnstructuredDM-0311.ipynb\" target=\"_parent\"><img src=\"https://colab.research.google.com/assets/colab-badge.svg\" alt=\"Open In Colab\"/></a>"
      ]
    },
    {
      "cell_type": "code",
      "execution_count": null,
      "metadata": {
        "colab": {
          "base_uri": "https://localhost:8080/"
        },
        "id": "UNKlRQXqeUc8",
        "outputId": "42b8e900-c939-491b-f277-ba3ae43b9d35"
      },
      "outputs": [
        {
          "output_type": "stream",
          "name": "stdout",
          "text": [
            "Hello How are you Visit httpsexamplecom\n"
          ]
        }
      ],
      "source": [
        "# 특수문자 제거\n",
        "import re\n",
        "text = \"Hello!!! How are you??? Visit https://example.com\"\n",
        "cleaned_text = re.sub(r'[^a-zA-Z0-9\\s]', '', text) # 특수문자 제거\n",
        "print(cleaned_text)"
      ]
    },
    {
      "cell_type": "code",
      "source": [
        "#실습 - 문장/단어토큰화\n",
        "import nltk\n",
        "from nltk.tokenize import word_tokenize, sent_tokenize\n",
        "\n",
        "nltk.download('punkt')\n",
        "nltk.download('punkt_tab')\n",
        "text = \"Natural Language Processing is amazing! I love working with NLP.\"\n",
        "\n",
        "# 문장 단위 토큰화\n",
        "sentences = sent_tokenize(text)\n",
        "print(\"문장 토큰화:\", sentences)\n",
        "\n",
        "# 단어 단위 토큰화\n",
        "words = word_tokenize(text)\n",
        "print(\"단어 토큰화:\", words)"
      ],
      "metadata": {
        "colab": {
          "base_uri": "https://localhost:8080/"
        },
        "id": "DwZcS58ueZoR",
        "outputId": "1960d709-0bb0-4518-f507-5a93bf2871b9"
      },
      "execution_count": null,
      "outputs": [
        {
          "output_type": "stream",
          "name": "stdout",
          "text": [
            "문장 토큰화: ['Natural Language Processing is amazing!', 'I love working with NLP.']\n",
            "단어 토큰화: ['Natural', 'Language', 'Processing', 'is', 'amazing', '!', 'I', 'love', 'working', 'with', 'NLP', '.']\n"
          ]
        },
        {
          "output_type": "stream",
          "name": "stderr",
          "text": [
            "[nltk_data] Downloading package punkt to /root/nltk_data...\n",
            "[nltk_data]   Package punkt is already up-to-date!\n",
            "[nltk_data] Downloading package punkt_tab to /root/nltk_data...\n",
            "[nltk_data]   Package punkt_tab is already up-to-date!\n"
          ]
        }
      ]
    },
    {
      "cell_type": "code",
      "source": [
        "#실습 - 불용어 제거\n",
        "import nltk\n",
        "from nltk.corpus import stopwords\n",
        "nltk.download('stopwords')\n",
        "\n",
        "# 불용어 리스트 로드\n",
        "stop_words = set(stopwords.words('english'))\n",
        "# 예제 문장\n",
        "words = [\"Natural\", \"Language\", \"Processing\", \"is\", \"amazing\", \"and\", \"fun\"]\n",
        "\n",
        "# 불용어 제거\n",
        "filtered_words1 = [word for word in words if word.lower() not in stop_words]\n",
        "filtered_words2 = [word.lower() for word in words if word.lower() not in stop_words]\n",
        "print(\"불용어 제거 결과:\", filtered_words1)\n",
        "print(\"불용어 제거 결과:\", filtered_words2) # 소문자를 해서 가져오기"
      ],
      "metadata": {
        "colab": {
          "base_uri": "https://localhost:8080/"
        },
        "id": "2tNr1vuCegQv",
        "outputId": "aad229fb-f8ff-430e-efe5-526672365461"
      },
      "execution_count": null,
      "outputs": [
        {
          "output_type": "stream",
          "name": "stdout",
          "text": [
            "불용어 제거 결과: ['Natural', 'Language', 'Processing', 'amazing', 'fun']\n",
            "불용어 제거 결과: ['natural', 'language', 'processing', 'amazing', 'fun']\n"
          ]
        },
        {
          "output_type": "stream",
          "name": "stderr",
          "text": [
            "[nltk_data] Downloading package stopwords to /root/nltk_data...\n",
            "[nltk_data]   Package stopwords is already up-to-date!\n"
          ]
        }
      ]
    },
    {
      "cell_type": "code",
      "source": [
        "#실습 - 정규화(소문자 변환)\n",
        "text = \"Natural Language Processing is FUN and AMAZING!\"\n",
        "normalized_text = text.lower()\n",
        "print(\"소문자 변환:\", normalized_text)"
      ],
      "metadata": {
        "colab": {
          "base_uri": "https://localhost:8080/"
        },
        "id": "CnrI_MObe_ju",
        "outputId": "a7b4afb6-a97f-4f70-cae7-95fdd4918bde"
      },
      "execution_count": null,
      "outputs": [
        {
          "output_type": "stream",
          "name": "stdout",
          "text": [
            "소문자 변환: natural language processing is fun and amazing!\n"
          ]
        }
      ]
    },
    {
      "cell_type": "code",
      "source": [
        "#실습- Lemmatizer\n",
        "from nltk.stem import WordNetLemmatizer\n",
        "nltk.download('wordnet')\n",
        "lemmatizer = WordNetLemmatizer()\n",
        "words = [\"running\", \"flies\", \"better\", \"eaten\"]\n",
        "lemmatized_words1 = [lemmatizer.lemmatize(word) for word in words]\n",
        "lemmatized_words2 = [lemmatizer.lemmatize(word, pos=\"v\") for word in words]\n",
        "print(\"표제어 추출 결과:\", lemmatized_words1)\n",
        "print(\"표제어 추출 결과:\", lemmatized_words2)"
      ],
      "metadata": {
        "colab": {
          "base_uri": "https://localhost:8080/"
        },
        "id": "5GNIuctTe_bO",
        "outputId": "2b96bd35-02a8-4051-997a-069e4fa21777"
      },
      "execution_count": null,
      "outputs": [
        {
          "output_type": "stream",
          "name": "stdout",
          "text": [
            "표제어 추출 결과: ['running', 'fly', 'better', 'eaten']\n",
            "표제어 추출 결과: ['run', 'fly', 'better', 'eat']\n"
          ]
        },
        {
          "output_type": "stream",
          "name": "stderr",
          "text": [
            "[nltk_data] Downloading package wordnet to /root/nltk_data...\n",
            "[nltk_data]   Package wordnet is already up-to-date!\n"
          ]
        }
      ]
    },
    {
      "cell_type": "code",
      "source": [
        "#실습 - Stemmer\n",
        "from nltk.stem import PorterStemmer\n",
        "stemmer = PorterStemmer()\n",
        "words = [\"running\", \"flies\", \"better\", \"eaten\"]\n",
        "stemmed_words = [stemmer.stem(word) for word in words]\n",
        "print(\"어간 추출 결과:\", stemmed_words)"
      ],
      "metadata": {
        "colab": {
          "base_uri": "https://localhost:8080/"
        },
        "id": "x40V5YF3e_AP",
        "outputId": "864e449a-48b2-4d7c-c2e8-da0d63418b05"
      },
      "execution_count": null,
      "outputs": [
        {
          "output_type": "stream",
          "name": "stdout",
          "text": [
            "어간 추출 결과: ['run', 'fli', 'better', 'eaten']\n"
          ]
        }
      ]
    },
    {
      "cell_type": "code",
      "source": [
        "pip install scikit-learn"
      ],
      "metadata": {
        "colab": {
          "base_uri": "https://localhost:8080/"
        },
        "id": "j0zFw8Ofn1Ze",
        "outputId": "35fef448-9bef-4905-933d-c12c03dc43e7"
      },
      "execution_count": null,
      "outputs": [
        {
          "output_type": "stream",
          "name": "stdout",
          "text": [
            "Requirement already satisfied: scikit-learn in /usr/local/lib/python3.11/dist-packages (1.6.1)\n",
            "Requirement already satisfied: numpy>=1.19.5 in /usr/local/lib/python3.11/dist-packages (from scikit-learn) (1.26.4)\n",
            "Requirement already satisfied: scipy>=1.6.0 in /usr/local/lib/python3.11/dist-packages (from scikit-learn) (1.13.1)\n",
            "Requirement already satisfied: joblib>=1.2.0 in /usr/local/lib/python3.11/dist-packages (from scikit-learn) (1.4.2)\n",
            "Requirement already satisfied: threadpoolctl>=3.1.0 in /usr/local/lib/python3.11/dist-packages (from scikit-learn) (3.5.0)\n"
          ]
        }
      ]
    },
    {
      "cell_type": "code",
      "source": [
        "#실습 - TfidfVectorizer\n",
        "from sklearn.feature_extraction.text import TfidfVectorizers\n",
        "documents = [\n",
        "    \"자연어 처리는 재미있다\",\n",
        "    \"자연어 처리는 어려울 수 있다\",\n",
        "    \"자연어 처리는 유용하다\"\n",
        "    ]\n",
        "vectorizer = TfidfVectorizer()\n",
        "X = vectorizer.fit_transform(documents)\n",
        "print(vectorizer.get_feature_names_out())\n",
        "print(X.toarray())"
      ],
      "metadata": {
        "colab": {
          "base_uri": "https://localhost:8080/",
          "height": 423
        },
        "id": "liPiiFtblHgT",
        "outputId": "3a7d6dd5-5325-4503-f271-be4e411c1f9a"
      },
      "execution_count": null,
      "outputs": [
        {
          "output_type": "error",
          "ename": "ImportError",
          "evalue": "cannot import name 'TfidfVectorizers' from 'sklearn.feature_extraction.text' (/usr/local/lib/python3.11/dist-packages/sklearn/feature_extraction/text.py)",
          "traceback": [
            "\u001b[0;31m---------------------------------------------------------------------------\u001b[0m",
            "\u001b[0;31mImportError\u001b[0m                               Traceback (most recent call last)",
            "\u001b[0;32m<ipython-input-29-0f6a8f01697d>\u001b[0m in \u001b[0;36m<cell line: 0>\u001b[0;34m()\u001b[0m\n\u001b[1;32m      1\u001b[0m \u001b[0;31m#실습 - TfidfVectorizer\u001b[0m\u001b[0;34m\u001b[0m\u001b[0;34m\u001b[0m\u001b[0m\n\u001b[0;32m----> 2\u001b[0;31m \u001b[0;32mfrom\u001b[0m \u001b[0msklearn\u001b[0m\u001b[0;34m.\u001b[0m\u001b[0mfeature_extraction\u001b[0m\u001b[0;34m.\u001b[0m\u001b[0mtext\u001b[0m \u001b[0;32mimport\u001b[0m \u001b[0mTfidfVectorizers\u001b[0m\u001b[0;34m\u001b[0m\u001b[0;34m\u001b[0m\u001b[0m\n\u001b[0m\u001b[1;32m      3\u001b[0m documents = [\n\u001b[1;32m      4\u001b[0m     \u001b[0;34m\"자연어 처리는 재미있다\"\u001b[0m\u001b[0;34m,\u001b[0m\u001b[0;34m\u001b[0m\u001b[0;34m\u001b[0m\u001b[0m\n\u001b[1;32m      5\u001b[0m     \u001b[0;34m\"자연어 처리는 어려울 수 있다\"\u001b[0m\u001b[0;34m,\u001b[0m\u001b[0;34m\u001b[0m\u001b[0;34m\u001b[0m\u001b[0m\n",
            "\u001b[0;31mImportError\u001b[0m: cannot import name 'TfidfVectorizers' from 'sklearn.feature_extraction.text' (/usr/local/lib/python3.11/dist-packages/sklearn/feature_extraction/text.py)",
            "",
            "\u001b[0;31m---------------------------------------------------------------------------\u001b[0;32m\nNOTE: If your import is failing due to a missing package, you can\nmanually install dependencies using either !pip or !apt.\n\nTo view examples of installing some common dependencies, click the\n\"Open Examples\" button below.\n\u001b[0;31m---------------------------------------------------------------------------\u001b[0m\n"
          ],
          "errorDetails": {
            "actions": [
              {
                "action": "open_url",
                "actionText": "Open Examples",
                "url": "/notebooks/snippets/importing_libraries.ipynb"
              }
            ]
          }
        }
      ]
    },
    {
      "cell_type": "code",
      "source": [
        "from sklearn.feature_extraction.text import TfidfVectorizer\n",
        "# 1. 최대 문서 빈도(max_df)와 최소 문서 빈도(min_df) 설정\n",
        "# - max_df=0.9 : 전체 문서의 90% 이상에서 등장하는 단어는 제거 (너무 흔한 단어 제외)\n",
        "# - min_df=2 : 최소 2개 이상의 문서에서 등장하는 단어만 포함 (너무 희귀한 단어 제외)\n",
        "vectorizer = TfidfVectorizer(max_df=0.9, min_df=2)\n",
        "# 2. N-그램 범위 설정\n",
        "# - ngram_range=(1,2) : 단어 단위 unigram(1-gram)과 bigram(2-gram)을 모두 포함\n",
        "# - 예: \"자연어 처리\" → [\"자연어\", \"처리\", \"자연어 처리\"]|\n",
        "\n",
        "vectorizer = TfidfVectorizer(ngram_range=(1,2))\n",
        "# 3. 벡터 정규화 방식 설정\n",
        "# - norm=\"l2\" : L2 정규화를 사용하여 벡터 크기를 조정 (각 벡터의 크기를 1로 만듦)\n",
        "# - 이는 코사인 유사도를 사용할 때 유용함\n",
        "vectorizer = TfidfVectorizer(norm=\"l2\")"
      ],
      "metadata": {
        "id": "vpiGIqeHmCy5"
      },
      "execution_count": null,
      "outputs": []
    },
    {
      "cell_type": "code",
      "source": [],
      "metadata": {
        "id": "IpLY7fwCoe7g"
      },
      "execution_count": null,
      "outputs": []
    }
  ]
}