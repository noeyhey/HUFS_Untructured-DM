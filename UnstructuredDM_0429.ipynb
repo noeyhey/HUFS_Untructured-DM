{
  "nbformat": 4,
  "nbformat_minor": 0,
  "metadata": {
    "colab": {
      "provenance": [],
      "authorship_tag": "ABX9TyPYi8zfD4v4Y+IO1WGx9LkN",
      "include_colab_link": true
    },
    "kernelspec": {
      "name": "python3",
      "display_name": "Python 3"
    },
    "language_info": {
      "name": "python"
    }
  },
  "cells": [
    {
      "cell_type": "markdown",
      "metadata": {
        "id": "view-in-github",
        "colab_type": "text"
      },
      "source": [
        "<a href=\"https://colab.research.google.com/github/noeyhey/HUFS_Untructured-DM/blob/main/UnstructuredDM_0429.ipynb\" target=\"_parent\"><img src=\"https://colab.research.google.com/assets/colab-badge.svg\" alt=\"Open In Colab\"/></a>"
      ]
    },
    {
      "cell_type": "markdown",
      "source": [
        "음성데이터 이해 및 처리 9주차 실습"
      ],
      "metadata": {
        "id": "lslXDKbUimcg"
      }
    },
    {
      "cell_type": "code",
      "execution_count": null,
      "metadata": {
        "colab": {
          "base_uri": "https://localhost:8080/"
        },
        "id": "Dqg-NcCaiim9",
        "outputId": "91b4df8f-c1b3-4da8-ea7f-6348260d293d"
      },
      "outputs": [
        {
          "output_type": "stream",
          "name": "stdout",
          "text": [
            "Drive already mounted at /content/drive; to attempt to forcibly remount, call drive.mount(\"/content/drive\", force_remount=True).\n",
            "Traceback (most recent call last):\n",
            "  File \"/usr/local/lib/python3.11/dist-packages/pip/_internal/cli/base_command.py\", line 179, in exc_logging_wrapper\n",
            "    status = run_func(*args)\n",
            "             ^^^^^^^^^^^^^^^\n",
            "  File \"/usr/local/lib/python3.11/dist-packages/pip/_internal/cli/req_command.py\", line 67, in wrapper\n",
            "    return func(self, options, args)\n",
            "           ^^^^^^^^^^^^^^^^^^^^^^^^^\n",
            "  File \"/usr/local/lib/python3.11/dist-packages/pip/_internal/commands/install.py\", line 447, in run\n",
            "    conflicts = self._determine_conflicts(to_install)\n",
            "                ^^^^^^^^^^^^^^^^^^^^^^^^^^^^^^^^^^^^^\n",
            "  File \"/usr/local/lib/python3.11/dist-packages/pip/_internal/commands/install.py\", line 578, in _determine_conflicts\n",
            "    return check_install_conflicts(to_install)\n",
            "           ^^^^^^^^^^^^^^^^^^^^^^^^^^^^^^^^^^^\n",
            "  File \"/usr/local/lib/python3.11/dist-packages/pip/_internal/operations/check.py\", line 101, in check_install_conflicts\n",
            "    package_set, _ = create_package_set_from_installed()\n",
            "                     ^^^^^^^^^^^^^^^^^^^^^^^^^^^^^^^^^^^\n",
            "  File \"/usr/local/lib/python3.11/dist-packages/pip/_internal/operations/check.py\", line 42, in create_package_set_from_installed\n",
            "    dependencies = list(dist.iter_dependencies())\n",
            "                   ^^^^^^^^^^^^^^^^^^^^^^^^^^^^^^\n",
            "  File \"/usr/local/lib/python3.11/dist-packages/pip/_internal/metadata/importlib/_dists.py\", line 219, in iter_dependencies\n",
            "    for req_string in self.metadata.get_all(\"Requires-Dist\", []):\n",
            "                      ^^^^^^^^^^^^^\n",
            "  File \"/usr/lib/python3.11/functools.py\", line 1001, in __get__\n",
            "    val = self.func(instance)\n",
            "          ^^^^^^^^^^^^^^^^^^^\n",
            "  File \"/usr/local/lib/python3.11/dist-packages/pip/_internal/metadata/base.py\", line 394, in metadata\n",
            "    metadata = self._metadata_impl()\n",
            "               ^^^^^^^^^^^^^^^^^^^^^\n",
            "  File \"/usr/local/lib/python3.11/dist-packages/pip/_internal/metadata/importlib/_dists.py\", line 209, in _metadata_impl\n",
            "    return cast(email.message.Message, self._dist.metadata)\n",
            "                                       ^^^^^^^^^^^^^^^^^^^\n",
            "  File \"/usr/lib/python3.11/importlib/metadata/__init__.py\", line 617, in metadata\n",
            "    return _adapters.Message(email.message_from_string(text))\n",
            "                             ^^^^^^^^^^^^^^^^^^^^^^^^^^^^^^^\n",
            "  File \"/usr/lib/python3.11/email/__init__.py\", line 37, in message_from_string\n",
            "    return Parser(*args, **kws).parsestr(s)\n",
            "           ^^^^^^^^^^^^^^^^^^^^^^^^^^^^^^^^\n",
            "  File \"/usr/lib/python3.11/email/parser.py\", line 67, in parsestr\n",
            "    return self.parse(StringIO(text), headersonly=headersonly)\n",
            "           ^^^^^^^^^^^^^^^^^^^^^^^^^^^^^^^^^^^^^^^^^^^^^^^^^^^\n",
            "  File \"/usr/lib/python3.11/email/parser.py\", line 56, in parse\n",
            "    feedparser.feed(data)\n",
            "  File \"/usr/lib/python3.11/email/feedparser.py\", line 174, in feed\n",
            "    self._call_parse()\n",
            "  File \"/usr/lib/python3.11/email/feedparser.py\", line 178, in _call_parse\n",
            "    self._parse()\n",
            "  File \"/usr/lib/python3.11/email/feedparser.py\", line 238, in _parsegen\n",
            "    self._parse_headers(headers)\n",
            "  File \"/usr/lib/python3.11/email/feedparser.py\", line 486, in _parse_headers\n",
            "    self._cur.set_raw(*self.policy.header_source_parse(lastvalue))\n",
            "  File \"/usr/lib/python3.11/email/message.py\", line 507, in set_raw\n",
            "    def set_raw(self, name, value):\n",
            "\n",
            "KeyboardInterrupt\n",
            "\n",
            "During handling of the above exception, another exception occurred:\n",
            "\n",
            "Traceback (most recent call last):\n",
            "  File \"/usr/local/bin/pip3\", line 10, in <module>\n",
            "    sys.exit(main())\n",
            "             ^^^^^^\n",
            "  File \"/usr/local/lib/python3.11/dist-packages/pip/_internal/cli/main.py\", line 80, in main\n",
            "    return command.main(cmd_args)\n",
            "           ^^^^^^^^^^^^^^^^^^^^^^\n",
            "  File \"/usr/local/lib/python3.11/dist-packages/pip/_internal/cli/base_command.py\", line 100, in main\n",
            "    return self._main(args)\n",
            "           ^^^^^^^^^^^^^^^^\n",
            "  File \"/usr/local/lib/python3.11/dist-packages/pip/_internal/cli/base_command.py\", line 232, in _main\n",
            "    return run(options, args)\n",
            "           ^^^^^^^^^^^^^^^^^^\n",
            "  File \"/usr/local/lib/python3.11/dist-packages/pip/_internal/cli/base_command.py\", line 215, in exc_logging_wrapper\n",
            "    logger.critical(\"Operation cancelled by user\")\n",
            "  File \"/usr/lib/python3.11/logging/__init__.py\", line 1526, in critical\n",
            "    def critical(self, msg, *args, **kwargs):\n",
            "\n",
            "KeyboardInterrupt\n",
            "^C\n"
          ]
        }
      ],
      "source": [
        "from google.colab import drive\n",
        "drive.mount('/content/drive')\n",
        "\n",
        "# 필수 패키지 설치\n",
        "!pip install librosa noisereduce webrtcvad pydub openai-whisper --quiet\n",
        "\n",
        "# 라이브러리 불러오기\n",
        "import os\n",
        "import requests\n",
        "import librosa\n",
        "import librosa.display\n",
        "import numpy as np\n",
        "import matplotlib.pyplot as plt\n",
        "import noisereduce as nr\n",
        "import webrtcvad\n",
        "import whisper\n",
        "import soundfile as sf\n",
        "import re\n",
        "from pydub import AudioSegment"
      ]
    },
    {
      "cell_type": "code",
      "source": [
        "# 샘플 데이터 다운로드\n",
        "url = 'https://github.com/Jakobovski/free-spoken-digitdataset/raw/master/recordings/0_jackson_0.wav'\n",
        "filename = 'sample.wav'\n",
        "\n",
        "if not os.path.exists(filename):\n",
        "  r = requests.get(url)\n",
        "  with open(r'/content/drive/MyDrive/Colab Notebooks/'+filename, 'wb') as f:\n",
        "    f.write(r.content)"
      ],
      "metadata": {
        "id": "ck7Cem0Fi2EX"
      },
      "execution_count": null,
      "outputs": []
    },
    {
      "cell_type": "code",
      "source": [
        "# 0: 보수적(적은 민감성, 음성구간을 넓게 판단), 3: 공격적()\n",
        "\n",
        "def apply_vad(filename, aggressiveness=3):\n",
        "  sound = AudioSegment.from_wav(filename).set_channels(1).set_frame_rate(16000)\n",
        "  # 오디오를 모노(1채널), 샘플링 레이트 16kHz로 변환 (VAD가 요구하는 형태)\n",
        "\n",
        "  raw_audio = sound.raw_data\n",
        "  sample_rate = sound.frame_rate # 1초 동안 몇 번 소리를 측정(샘플링)? -> (헤르츠)\n",
        "\n",
        "  vad = webrtcvad.Vad(aggressiveness) # VAD 객체 선언\n",
        "\n",
        "  frame_duration = 30 # ms\n",
        "  frame_size = int(sample_rate * frame_duration / 1000) * 2 # 16-bit PCM(Pulse Code modulation) 소리를 변환하는 방식\n",
        "  voiced_frames = b''# 빈 바이너리 데이터에서 시작 (리스트 X)\n",
        "\n",
        "  for i in range(0, len(raw_audio), frame_size):\n",
        "    frame = raw_audio[i:i+frame_size]\n",
        "    if len(frame) < frame_size:\n",
        "      break\n",
        "    if vad.is_speech(frame, sample_rate):\n",
        "      voiced_frames += frame\n",
        "  voiced_audio = AudioSegment(data=voiced_frames, sample_width=2, frame_rate=16000, channels=1)\n",
        "  return voiced_audio\n",
        "\n",
        "filename = '/content/drive/MyDrive/Colab Notebooks/sample.wav'\n",
        "voiced_segment = apply_vad(filename)\n",
        "voiced_segment.export('/content/drive/MyDrive/Colab Notebooks/voiced.wav', format='wav')"
      ],
      "metadata": {
        "colab": {
          "base_uri": "https://localhost:8080/"
        },
        "id": "kYtul5PjjA43",
        "outputId": "35a05e52-7b4a-489c-b151-9a82377def56"
      },
      "execution_count": null,
      "outputs": [
        {
          "output_type": "execute_result",
          "data": {
            "text/plain": [
              "<_io.BufferedRandom name='/content/drive/MyDrive/Colab Notebooks/voiced.wav'>"
            ]
          },
          "metadata": {},
          "execution_count": 22
        }
      ]
    },
    {
      "cell_type": "code",
      "source": [
        "# 노이즈 제거\n",
        "y, sr = librosa.load(r'/content/drive/MyDrive/Colab Notebooks/'+\"voiced.wav\", sr=None)\n",
        "noise_sample = y[:int(0.1 * sr)] # 초반부잡음 추정\n",
        "denoised = nr.reduce_noise(y=y, y_noise=noise_sample, sr=sr)\n",
        "sf.write(r'/content/drive/MyDrive/Colab Notebooks/'+\"clean.wav\", denoised, sr)\n",
        "\n",
        "# ASR: Whisper로 텍스트 추출\n",
        "model = whisper.load_model(\"base\") # tiny, base, small, ...\n",
        "result = model.transcribe(r'/content/drive/MyDrive/Colab Notebooks/'+\"clean.wav\")\n",
        "raw_text = result[\"text\"]\n",
        "print(\"ASR 인식결과:\", raw_text)\n",
        "\n",
        "# 텍스트 정규화\n",
        "def normalize_text(text):\n",
        "  text = text.lower()\n",
        "  text = re.sub(r'[^\\w\\s]', '', text)\n",
        "  text = re.sub(r'\\s+', ' ', text)\n",
        "  return text.strip()\n",
        "\n",
        "clean_text = normalize_text(raw_text)\n",
        "print(\"정규화된 텍스트:\", clean_text)"
      ],
      "metadata": {
        "id": "L0G-aFbmjXZ3",
        "colab": {
          "base_uri": "https://localhost:8080/"
        },
        "outputId": "85e2d77b-41b5-4231-e3df-c99389cc3888"
      },
      "execution_count": null,
      "outputs": [
        {
          "output_type": "stream",
          "name": "stderr",
          "text": [
            "/usr/local/lib/python3.11/dist-packages/whisper/transcribe.py:126: UserWarning: FP16 is not supported on CPU; using FP32 instead\n",
            "  warnings.warn(\"FP16 is not supported on CPU; using FP32 instead\")\n"
          ]
        },
        {
          "output_type": "stream",
          "name": "stdout",
          "text": [
            "ASR 인식결과:  Zero.\n",
            "정규화된 텍스트: zero\n"
          ]
        }
      ]
    },
    {
      "cell_type": "code",
      "source": [
        "# MFCC 추출\n",
        "y_final, sr_final = librosa.load(r'/content/drive/MyDrive/Colab Notebooks/'+\"clean.wav\", sr=None)\n",
        "mfccs = librosa.feature.mfcc(y=y_final, sr=sr_final, n_mfcc=13)\n",
        "\n",
        "# MFCC 시각화\n",
        "plt.figure(figsize=(10, 4))\n",
        "librosa.display.specshow(mfccs, x_axis='time')\n",
        "plt.colorbar()\n",
        "plt.title('MFCC (after VAD + Denoise)')\n",
        "plt.tight_layout()\n",
        "plt.show()"
      ],
      "metadata": {
        "id": "2rufE5-Fj_8A",
        "colab": {
          "base_uri": "https://localhost:8080/",
          "height": 407
        },
        "outputId": "80e29a0b-85bf-433f-bdd4-a844891aa4a1"
      },
      "execution_count": null,
      "outputs": [
        {
          "output_type": "display_data",
          "data": {
            "text/plain": [
              "<Figure size 1000x400 with 2 Axes>"
            ],
            "image/png": "[encoded data removed]"
          },
          "metadata": {}
        }
      ]
    }
  ]
}